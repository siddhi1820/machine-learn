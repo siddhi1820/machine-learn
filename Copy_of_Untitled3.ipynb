{
  "nbformat": 4,
  "nbformat_minor": 0,
  "metadata": {
    "colab": {
      "name": "Copy of Untitled3.ipynb",
      "provenance": [],
      "collapsed_sections": [],
      "authorship_tag": "ABX9TyNOAqlpSprXqPh0fl6RqLNy",
      "include_colab_link": true
    },
    "kernelspec": {
      "name": "python3",
      "display_name": "Python 3"
    },
    "language_info": {
      "name": "python"
    }
  },
  "cells": [
    {
      "cell_type": "markdown",
      "metadata": {
        "id": "view-in-github",
        "colab_type": "text"
      },
      "source": [
        "<a href=\"https://colab.research.google.com/github/siddhi1820/machine-learn/blob/main/Copy_of_Untitled3.ipynb\" target=\"_parent\"><img src=\"https://colab.research.google.com/assets/colab-badge.svg\" alt=\"Open In Colab\"/></a>"
      ]
    },
    {
      "cell_type": "markdown",
      "metadata": {
        "id": "N-u-fVaRjqAa"
      },
      "source": [
        "# Nth Series Problem "
      ]
    },
    {
      "cell_type": "code",
      "metadata": {
        "id": "5njVS4KveAjM",
        "colab": {
          "base_uri": "https://localhost:8080/"
        },
        "outputId": "29350ee9-ee65-4eb5-f23e-3664ae4bc3f8"
      },
      "source": [
        "#Given Series is 2,4,6,8,10,...n\n",
        "#input:9 output:18\n",
        "n=int(input('Enter nth term :'))\n",
        "if n//2:\n",
        "  print('output is:',n*2)"
      ],
      "execution_count": null,
      "outputs": [
        {
          "output_type": "stream",
          "text": [
            "Enter nth term :9\n",
            "output is: 18\n"
          ],
          "name": "stdout"
        }
      ]
    }
  ]
}