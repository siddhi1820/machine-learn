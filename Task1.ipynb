{
  "nbformat": 4,
  "nbformat_minor": 0,
  "metadata": {
    "colab": {
      "name": "Untitled22.ipynb",
      "provenance": [],
      "authorship_tag": "ABX9TyNY5S2B3zeT3BHQQWPVrNTd",
      "include_colab_link": true
    },
    "kernelspec": {
      "name": "python3",
      "display_name": "Python 3"
    },
    "language_info": {
      "name": "python"
    }
  },
  "cells": [
    {
      "cell_type": "markdown",
      "metadata": {
        "id": "view-in-github",
        "colab_type": "text"
      },
      "source": [
        "<a href=\"https://colab.research.google.com/github/siddhi1820/machine-learn/blob/main/Task1.ipynb\" target=\"_parent\"><img src=\"https://colab.research.google.com/assets/colab-badge.svg\" alt=\"Open In Colab\"/></a>"
      ]
    },
    {
      "cell_type": "markdown",
      "source": [
        "# WAP print following output to screen"
      ],
      "metadata": {
        "id": "WZCEQHdgkZix"
      }
    },
    {
      "cell_type": "code",
      "source": [
        "print(\"{}   {}\".format(\"Escape character\",\"use\"))\n",
        "print(\"   {}           {}\".format(\"/n\",\"Newline\"))\n",
        "print(\"   {}           {}\".format(\"/t\",\"Space/tab\"))\n",
        "print(\"   {}           {}\".format(\"\\'\",\"Single Quote\"))\n",
        "print(\"   {}           {}\".format(\"\\\"\",\"Double Quote\"))\n",
        "\n"
      ],
      "metadata": {
        "colab": {
          "base_uri": "https://localhost:8080/"
        },
        "id": "yyA7FSkMcHdN",
        "outputId": "75f85661-420e-4baa-e0bc-3248540bf01e"
      },
      "execution_count": 81,
      "outputs": [
        {
          "output_type": "stream",
          "name": "stdout",
          "text": [
            "Escape character   use\n",
            "   /n           Newline\n",
            "   /t           Space/tab\n",
            "   '           Single Quote\n",
            "   \"           Double Quote\n"
          ]
        }
      ]
    },
    {
      "cell_type": "markdown",
      "source": [
        "# WAP to swap two numbers"
      ],
      "metadata": {
        "id": "jE1WZfINkrFl"
      }
    },
    {
      "cell_type": "code",
      "execution_count": null,
      "metadata": {
        "colab": {
          "base_uri": "https://localhost:8080/"
        },
        "id": "eD0I5GhChu8A",
        "outputId": "7a424a0d-d2ba-4b7a-9b7d-32c58a512040"
      },
      "outputs": [
        {
          "output_type": "stream",
          "name": "stdout",
          "text": [
            "6 5\n"
          ]
        }
      ],
      "source": [
        "a=5\n",
        "b=6\n",
        "temp=a\n",
        "a=b\n",
        "b=temp\n",
        "print(a,b)"
      ]
    },
    {
      "cell_type": "markdown",
      "source": [
        "# WAP to accept student details rollno,name,percentage and display"
      ],
      "metadata": {
        "id": "8qL-FFbqkxro"
      }
    },
    {
      "cell_type": "code",
      "source": [
        "Name=input()\n",
        "Rollno=int(input())\n",
        "percentage=float(input())\n",
        "print(\"{} {} {}\".format(\"Rollno\",\"Name\",\"Percentage\"))\n",
        "print(\"{} {} {}\".format( Rollno, Name, percentage))\n"
      ],
      "metadata": {
        "id": "ZZRrj9LHdV4_"
      },
      "execution_count": null,
      "outputs": []
    },
    {
      "cell_type": "markdown",
      "source": [
        "# Write a menu driven program to calculate prime,factorial,amstrong,palindrome number"
      ],
      "metadata": {
        "id": "ziXz-FOQk5Dx"
      }
    },
    {
      "cell_type": "code",
      "source": [
        "def prime(n):\n",
        "  if(n<=1):\n",
        "    return \"Not prime\"\n",
        "  else:\n",
        "    for i in range(2,(n//2+1)):\n",
        "      if(n%i==0):\n",
        "        return \"Not Prime\"\n",
        "      else:\n",
        "        return \"Prime\"\n",
        "def Factorial(n):\n",
        "  fact=1\n",
        "  for i in range(1,n+1):\n",
        "    fact=fact*i\n",
        "  return fact\n",
        "def Palindrome(n):\n",
        "  val=n\n",
        "  rev=0\n",
        "  while(n!=0):\n",
        "     rem=n%10\n",
        "     rev=rev*10+rem\n",
        "     n=n//10\n",
        "  if(rev==val):\n",
        "    return \"yes palindrome\"\n",
        "  else:\n",
        "    return \"Not palindrome\"\n",
        "def amstrong(n):\n",
        "  val=n\n",
        "  length=len(str(n))\n",
        "  rev=0\n",
        "  while(n!=0):\n",
        "     rem=n%10\n",
        "     rev=rev+(rem**length)\n",
        "     n=n//10\n",
        "  if(rev==val):\n",
        "    return \"yes \"\n",
        "  else:\n",
        "    return \"No\"\n",
        "\n",
        "\n",
        "while True:  \n",
        "    print(\"\\nMAIN MENU\")  \n",
        "    print(\"1. Check number is Prime or not\")  \n",
        "    print(\"2. Check number of factorial\")  \n",
        "    print(\"3. Check number is palindrome or not\")  \n",
        "    print(\"4. Check number is amstrong or not\") \n",
        "    print(\"5. Exit\") \n",
        "    choice1 = int(input(\"Enter the Choice:\")) \n",
        "    if (choice1==1):\n",
        "      value=int(input())\n",
        "      print(prime(value))\n",
        "    if (choice1==2):\n",
        "      value=int(input())\n",
        "      print(Factorial(value))\n",
        "    if (choice1==3):\n",
        "      value=int(input())\n",
        "      print(Palindrome(value))\n",
        "    if (choice1==4):\n",
        "      value=int(input())\n",
        "      print(amstrong(value))\n",
        "    if (choice1==5):\n",
        "      break"
      ],
      "metadata": {
        "id": "l4q8I7NKNuyQ"
      },
      "execution_count": null,
      "outputs": []
    },
    {
      "cell_type": "markdown",
      "source": [
        "# Wap to calculate cube of number in given range"
      ],
      "metadata": {
        "id": "SSa9z5zNlSBF"
      }
    },
    {
      "cell_type": "code",
      "source": [
        "for i in range(2,6):\n",
        "   print(i,':',i**3)\n",
        "print()"
      ],
      "metadata": {
        "colab": {
          "base_uri": "https://localhost:8080/"
        },
        "id": "5c9bg49KRBen",
        "outputId": "c63ecb8c-2bc6-45d2-a8cd-82760eefafe9"
      },
      "execution_count": 29,
      "outputs": [
        {
          "output_type": "stream",
          "name": "stdout",
          "text": [
            "2 : 8\n",
            "3 : 27\n",
            "4 : 64\n",
            "5 : 125\n",
            "\n"
          ]
        }
      ]
    },
    {
      "cell_type": "markdown",
      "source": [
        "# WAP given string is palindrome"
      ],
      "metadata": {
        "id": "i_DCv_B9lXfy"
      }
    },
    {
      "cell_type": "code",
      "source": [
        "def palindrome(n):\n",
        "   val = ''\n",
        "   for i in range(len(n) - 1, -1, -1):\n",
        "      val = val + n[i]\n",
        "   if (val == n):\n",
        "      print(\"palindrome\")\n",
        "   else:\n",
        "      print(\"Not palindrome\")\n",
        "str1=input()\n",
        "palindrome(str1)\n"
      ],
      "metadata": {
        "id": "GHwFFj25TGvw"
      },
      "execution_count": null,
      "outputs": []
    },
    {
      "cell_type": "markdown",
      "source": [
        "# WAP menu driven program to sort number using selection sort and insertion sort"
      ],
      "metadata": {
        "id": "boTFJrRhld0G"
      }
    },
    {
      "cell_type": "code",
      "source": [
        "def selectionsort(list1):\n",
        "  for i in range(len(list1)):\n",
        "     min=i\n",
        "     for j in range(i+1, len(list1)):\n",
        "        if list1[min] > list1[j]:\n",
        "            min = j     \n",
        "     list1[i], list1[min] = list1[min], list1[i]\n",
        "  return list1\n",
        "def insertionsort(arr):\n",
        "    for i in range(1, len(arr)):\n",
        "        key = arr[i]\n",
        "        j = i-1\n",
        "        while j >=0 and key < arr[j] :\n",
        "                arr[j+1] = arr[j]\n",
        "                j=j-1\n",
        "        arr[j+1] =key\n",
        "    return arr\n",
        "list1 = []\n",
        "n = int(input(\"Enter number of elements : \"))\n",
        "for i in range(0, n):\n",
        "    ele = int(input())\n",
        " \n",
        "    list1.append(ele)\n",
        "     \n",
        "while(True):\n",
        "    print(\"\\nMAIN MENU\")  \n",
        "    print(\"1. selection sort\")  \n",
        "    print(\"2. insertion sort\")  \n",
        "    print(\"3. Exit\")   \n",
        "    choice1 = int(input(\"Enter the Choice:\")) \n",
        "    if (choice1==1):\n",
        "      print(selectionsort(list1))\n",
        "    if (choice1==2):\n",
        "      print(insertionsort(list1))\n",
        "    if (choice1==3):\n",
        "       break\n"
      ],
      "metadata": {
        "id": "6h8Us-KlUL7m"
      },
      "execution_count": null,
      "outputs": []
    },
    {
      "cell_type": "markdown",
      "source": [
        "# WAP to calculate largest common subsequence "
      ],
      "metadata": {
        "id": "wpJER2uGlops"
      }
    },
    {
      "cell_type": "code",
      "source": [
        "def lcs(X, Y, m, n):\n",
        "  \n",
        "    if m == 0 or n == 0:\n",
        "       return 0;\n",
        "    elif X[m-1] == Y[n-1]:\n",
        "       return 1 + lcs(X, Y, m-1, n-1);\n",
        "    else:\n",
        "       return max(lcs(X, Y, m, n-1), lcs(X, Y, m-1, n));\n",
        "str1 =input()\n",
        "str2 =input()\n",
        "print (\"Length of LCS is \", lcs(str1, str2, len(str1), len(str2)))"
      ],
      "metadata": {
        "id": "fozjABnBeRz8"
      },
      "execution_count": null,
      "outputs": []
    }
  ]
}