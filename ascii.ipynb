{
  "nbformat": 4,
  "nbformat_minor": 0,
  "metadata": {
    "colab": {
      "name": "ascii",
      "provenance": [],
      "authorship_tag": "ABX9TyMjLTNDI9G2gdB0fV7uJK3/",
      "include_colab_link": true
    },
    "kernelspec": {
      "name": "python3",
      "display_name": "Python 3"
    },
    "language_info": {
      "name": "python"
    }
  },
  "cells": [
    {
      "cell_type": "markdown",
      "metadata": {
        "id": "view-in-github",
        "colab_type": "text"
      },
      "source": [
        "<a href=\"https://colab.research.google.com/github/siddhi1820/machine-learn/blob/main/ascii.ipynb\" target=\"_parent\"><img src=\"https://colab.research.google.com/assets/colab-badge.svg\" alt=\"Open In Colab\"/></a>"
      ]
    },
    {
      "cell_type": "code",
      "metadata": {
        "colab": {
          "base_uri": "https://localhost:8080/"
        },
        "id": "1tRuGK6TPCbG",
        "outputId": "57a8c9f6-ee45-4e74-dc0f-992f865b1b8a"
      },
      "source": [
        "#input :Aa\n",
        "#Output15\n",
        "#Explaination:if given input is AaBbcC .then find out ascii value of each character.\n",
        "#A------->65 ascci value of A\n",
        "#a------->95 ascii value of a\n",
        "#A=65------>6 is grater than 5 pick out 6\n",
        "#a=95------->9 is grater than 5 pick out 9\n",
        "#sum =6+9\n",
        "#sum=15\n",
        "\n",
        "n=input('enter set of character:')\n",
        "print(n)\n",
        "\n"
      ],
      "execution_count": 2,
      "outputs": [
        {
          "output_type": "stream",
          "text": [
            "enter set of character:AAa\n",
            "AAa\n"
          ],
          "name": "stdout"
        }
      ]
    },
    {
      "cell_type": "code",
      "metadata": {
        "colab": {
          "base_uri": "https://localhost:8080/"
        },
        "id": "wNEhnhK3PL8s",
        "outputId": "bc3e57e5-bcdd-4934-9e22-3faac88531d1"
      },
      "source": [
        "sum=0 # initially sum is 0\n",
        "for i in n: #pick out each char in string\n",
        "   print(i,ord(i))\n",
        "\n",
        "   ascii=str(ord(i)).split(',') # ascii value of each number\n",
        "   for ele in ascii:\n",
        "      print('maximum element is:',max(ele)) # maximum element between two number\n",
        "      c=max(ele)\n",
        "      sum=sum+int(c)  # sum of max value\n",
        "print('sum of elements are:',sum)"
      ],
      "execution_count": 7,
      "outputs": [
        {
          "output_type": "stream",
          "text": [
            "A 65\n",
            "maximum element is: 6\n",
            "A 65\n",
            "maximum element is: 6\n",
            "a 97\n",
            "maximum element is: 9\n",
            "sum of elements are: 21\n"
          ],
          "name": "stdout"
        }
      ]
    }
  ]
}